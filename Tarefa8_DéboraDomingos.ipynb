{
  "cells": [
    {
      "cell_type": "markdown",
      "id": "a92e4b80",
      "metadata": {
        "id": "a92e4b80"
      },
      "source": [
        "Débora Domingos - 11202212420"
      ]
    },
    {
      "cell_type": "code",
      "execution_count": null,
      "id": "6629096b",
      "metadata": {
        "id": "6629096b"
      },
      "outputs": [],
      "source": [
        "# Exercicio 1:\n",
        "\n",
        "#Formula IMC: IMC = m/h**2\n",
        "\n",
        "#Sendo m a massa corportal, em kg e h a altura, em metros.\n",
        "\n",
        "#O IMC tem a seguinte classificação:\n",
        "\n",
        "#menor que 17 kg/m2 -- Muito abaixo do peso\n",
        "#17 a 18,5 kg/m2 -- Abaixo do peso\n",
        "#18,5 a 25 kg/m2 -- Peso normal\n",
        "#25 a 30 kg/m2 -- Acima do peso\n",
        "#30 a 35 kg/m2 -- Obesidade Grau I\n",
        "#35 a 40 kg/m2 -- Obesidade Grau II\n",
        "#maior que 40 kg/m2 -- Obesidade Grau III\n"
      ]
    },
    {
      "cell_type": "code",
      "execution_count": null,
      "id": "74aa041c",
      "metadata": {
        "colab": {
          "base_uri": "https://localhost:8080/"
        },
        "id": "74aa041c",
        "outputId": "6e727d51-412e-4227-cb63-7850471b30d2"
      },
      "outputs": [
        {
          "output_type": "stream",
          "name": "stdout",
          "text": [
            "O IMC é de: 20.83\n",
            "Peso normal\n"
          ]
        }
      ],
      "source": [
        "#a) m = 52kg h = 1,58\n",
        "\n",
        "m = 52\n",
        "h = 1.58\n",
        "\n",
        "#calculo do IMC\n",
        "IMC = m/h**2\n",
        "\n",
        "#printa o valor do IMC\n",
        "print('O IMC é de:', round(IMC,2))\n",
        "\n",
        "#faz o if para saber qual é a classificação do IMC\n",
        "if IMC < 17:\n",
        "    print('Muito abaixo do peso')\n",
        "elif IMC >= 17 and IMC <= 18.5:\n",
        "    print('Abaixo do Peso')\n",
        "elif IMC >= 18.5 and IMC <= 25:\n",
        "    print('Peso normal')\n",
        "elif IMC >= 25 and IMC <= 30:\n",
        "    print('Acima do peso')\n",
        "elif IMC >= 30 and IMC <= 35:\n",
        "    print('Obesidade Grau I')\n",
        "elif IMC >= 35 and IMC <= 40:\n",
        "    print('Obesidade Grau II')\n",
        "else:\n",
        "    print('Obesidade Grau III')\n",
        "        "
      ]
    },
    {
      "cell_type": "code",
      "execution_count": null,
      "id": "6f499a3a",
      "metadata": {
        "colab": {
          "base_uri": "https://localhost:8080/"
        },
        "id": "6f499a3a",
        "outputId": "af4dc3f2-1744-464e-8797-68d183b5a30c"
      },
      "outputs": [
        {
          "output_type": "stream",
          "name": "stdout",
          "text": [
            "O IMC é de: 27.1\n",
            "Acima do peso\n"
          ]
        }
      ],
      "source": [
        "#b) m = 83kg h = 1,75\n",
        "\n",
        "m = 83\n",
        "h = 1.75\n",
        "\n",
        "#cálculo do IMC\n",
        "IMC = m/h**2\n",
        "\n",
        "#printa o valor do IMC\n",
        "print('O IMC é de:', round(IMC,2))\n",
        "\n",
        "#faz o if para saber qual é a classificação do IMC\n",
        "if IMC < 17:\n",
        "    print('Muito abaixo do peso')\n",
        "elif IMC >= 17 and IMC <= 18.5:\n",
        "    print('Abaixo do Peso')\n",
        "elif IMC >= 18.5 and IMC <= 25:\n",
        "    print('Peso normal')\n",
        "elif IMC >= 25 and IMC <= 30:\n",
        "    print('Acima do peso')\n",
        "elif IMC >= 30 and IMC <= 35:\n",
        "    print('Obesidade Grau I')\n",
        "elif IMC >= 35 and IMC <= 40:\n",
        "    print('Obesidade Grau II')\n",
        "else:\n",
        "    print('Obesidade Grau III')"
      ]
    },
    {
      "cell_type": "code",
      "execution_count": null,
      "id": "8ecb8616",
      "metadata": {
        "colab": {
          "base_uri": "https://localhost:8080/"
        },
        "id": "8ecb8616",
        "outputId": "5c1643dd-ee13-443b-aca7-427d311674e3"
      },
      "outputs": [
        {
          "output_type": "stream",
          "name": "stdout",
          "text": [
            "O IMC é de: 27.1\n",
            "Acima do peso\n"
          ]
        }
      ],
      "source": [
        "#c) m = 69kg h = 1,73\n",
        "\n",
        "m = 69\n",
        "h = 1.73\n",
        "\n",
        "#printa o valor do IMC\n",
        "print('O IMC é de:', round(IMC,2))\n",
        "\n",
        "#faz o if para saber qual é a classificação do IMC\n",
        "if IMC < 17:\n",
        "    print('Muito abaixo do peso')\n",
        "elif IMC >= 17 and IMC <= 18.5:\n",
        "    print('Abaixo do Peso')\n",
        "elif IMC >= 18.5 and IMC <= 25:\n",
        "    print('Peso normal')\n",
        "elif IMC >= 25 and IMC <= 30:\n",
        "    print('Acima do peso')\n",
        "elif IMC >= 30 and IMC <= 35:\n",
        "    print('Obesidade Grau I')\n",
        "elif IMC >= 35 and IMC <= 40:\n",
        "    print('Obesidade Grau II')\n",
        "else:\n",
        "    print('Obesidade Grau III')"
      ]
    },
    {
      "cell_type": "code",
      "execution_count": null,
      "id": "7954ff50",
      "metadata": {
        "id": "7954ff50"
      },
      "outputs": [],
      "source": [
        "# Importanto o Matplotlib e o Numpy para os proximos exercicios\n",
        "\n",
        "#Importanto o Matplotlib\n",
        "import matplotlib.pyplot as plt\n",
        "\n",
        "#Importanto o Numpy\n",
        "import numpy as np"
      ]
    },
    {
      "cell_type": "code",
      "execution_count": null,
      "id": "83cb7a54",
      "metadata": {
        "colab": {
          "base_uri": "https://localhost:8080/",
          "height": 281
        },
        "id": "83cb7a54",
        "outputId": "5825598d-655b-49b0-ce67-157e64eeda2e"
      },
      "outputs": [
        {
          "output_type": "display_data",
          "data": {
            "text/plain": [
              "<Figure size 432x288 with 1 Axes>"
            ],
            "image/png": "[encoded data removed]"
          },
          "metadata": {
            "needs_background": "light"
          }
        }
      ],
      "source": [
        "#Exercicio 2\n",
        "\n",
        "#Definindo a função:\n",
        "def f(x): return x**3 + 3*x**2 - 54\n",
        "    \n",
        "#Definindo o intervalo:    \n",
        "x = np.linspace(0,8)  \n",
        "\n",
        "#Construindo o gráfico:\n",
        "plt.title('Exercicio 2')\n",
        "plt.plot(x, f(x))\n",
        "plt.show\n",
        "\n",
        "#Coloca a marcação do ponto nulo de acordo com o parametro apresentado:\n",
        "\n",
        "X = 98\n",
        "Y = 4\n",
        "\n",
        "plt.annotate('Ponto Nulo', xy = (Y,X), xytext = (Y,X), arrowprops = dict(facecolor = 'red', shrink = 0.01));\n"
      ]
    },
    {
      "cell_type": "code",
      "execution_count": null,
      "id": "2937d362",
      "metadata": {
        "colab": {
          "base_uri": "https://localhost:8080/",
          "height": 281
        },
        "id": "2937d362",
        "outputId": "6c94bdb8-f9e6-4e83-984e-4fae16c4caf1"
      },
      "outputs": [
        {
          "output_type": "display_data",
          "data": {
            "text/plain": [
              "<Figure size 432x288 with 1 Axes>"
            ],
            "image/png": "[encoded data removed]"
          },
          "metadata": {
            "needs_background": "light"
          }
        }
      ],
      "source": [
        "#Exercicio 3\n",
        "\n",
        "#Definindo a função:\n",
        "def f(x): return abs(x-2) + abs(2*x+1) - x - 6\n",
        "    \n",
        "#Definindo o intervalo:    \n",
        "x = np.linspace(-10,10)  \n",
        "\n",
        "#Construindo o gráfico:\n",
        "plt.title('Exercicio 3')\n",
        "plt.plot(x, f(x))\n",
        "plt.show;\n"
      ]
    },
    {
      "cell_type": "code",
      "execution_count": null,
      "id": "efa6cd82",
      "metadata": {
        "colab": {
          "base_uri": "https://localhost:8080/"
        },
        "id": "efa6cd82",
        "outputId": "ae7232b2-fc62-4cae-8619-a623bac1f4a9"
      },
      "outputs": [
        {
          "output_type": "stream",
          "name": "stdout",
          "text": [
            "O valor da função é: -2.0\n"
          ]
        }
      ],
      "source": [
        "#Exercicio 4\n",
        "\n",
        "#Defina o valor de x\n",
        "x = 0\n",
        "\n",
        "#Definindo a função\n",
        "f =  x**2 - np.sin(0.784*x**2) - 2\n",
        "\n",
        "print('O valor da função é:' , f)\n",
        "\n",
        "\n"
      ]
    },
    {
      "cell_type": "code",
      "execution_count": null,
      "id": "17aec170",
      "metadata": {
        "id": "17aec170"
      },
      "outputs": [],
      "source": []
    }
  ],
  "metadata": {
    "kernelspec": {
      "display_name": "Python 3",
      "language": "python",
      "name": "python3"
    },
    "language_info": {
      "codemirror_mode": {
        "name": "ipython",
        "version": 3
      },
      "file_extension": ".py",
      "mimetype": "text/x-python",
      "name": "python",
      "nbconvert_exporter": "python",
      "pygments_lexer": "ipython3",
      "version": "3.8.8"
    },
    "colab": {
      "provenance": []
    }
  },
  "nbformat": 4,
  "nbformat_minor": 5
}