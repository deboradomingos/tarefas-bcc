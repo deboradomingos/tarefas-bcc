{
  "nbformat": 4,
  "nbformat_minor": 0,
  "metadata": {
    "colab": {
      "provenance": [],
      "collapsed_sections": []
    },
    "kernelspec": {
      "name": "python3",
      "display_name": "Python 3"
    },
    "language_info": {
      "name": "python"
    }
  },
  "cells": [
    {
      "cell_type": "markdown",
      "source": [
        "Débora Domingos da Silva - 11202212420"
      ],
      "metadata": {
        "id": "2O8Z6UpBpe17"
      }
    },
    {
      "cell_type": "markdown",
      "source": [
        "Encontre o número de segundos para -\n",
        "\n",
        "1. 1 hora e 30 min:\n",
        "\n"
      ],
      "metadata": {
        "id": "AUtQwlCvpvzJ"
      }
    },
    {
      "cell_type": "code",
      "source": [
        "    h = 1.5\n",
        "    s = h * 60 * 60\n",
        "    print('s =', s, \"segundos\")"
      ],
      "metadata": {
        "colab": {
          "base_uri": "https://localhost:8080/"
        },
        "id": "hEQN0Iyfpy_B",
        "outputId": "e73fc4d9-f1c6-479c-bcd6-4e133c1ba415"
      },
      "execution_count": 6,
      "outputs": [
        {
          "output_type": "stream",
          "name": "stdout",
          "text": [
            "s = 5400.0 segundos\n"
          ]
        }
      ]
    },
    {
      "cell_type": "markdown",
      "source": [
        "\n",
        "2. 12 horas:\n",
        "\n"
      ],
      "metadata": {
        "id": "e66oRQLeq_SK"
      }
    },
    {
      "cell_type": "code",
      "source": [
        "h = 12\n",
        "s = h * 60 * 60\n",
        "print(\"s =\", s, \"segundos\")"
      ],
      "metadata": {
        "colab": {
          "base_uri": "https://localhost:8080/"
        },
        "id": "RzDK2CmErG2q",
        "outputId": "dd673967-354f-4201-b142-a83d3d033afb"
      },
      "execution_count": 11,
      "outputs": [
        {
          "output_type": "stream",
          "name": "stdout",
          "text": [
            "s = 43200 segundos\n"
          ]
        }
      ]
    },
    {
      "cell_type": "markdown",
      "source": [
        "3. 24 horas:\n",
        "\n"
      ],
      "metadata": {
        "id": "OwR5M3uArn4q"
      }
    },
    {
      "cell_type": "code",
      "source": [
        "h = 24\n",
        "s = h * 60 * 60\n",
        "print(\"s =\", s, \"segundos\")"
      ],
      "metadata": {
        "colab": {
          "base_uri": "https://localhost:8080/"
        },
        "id": "Q171CehNrwvY",
        "outputId": "e8ce18b6-34e5-4e04-cbdc-3e0e75ead7e4"
      },
      "execution_count": 12,
      "outputs": [
        {
          "output_type": "stream",
          "name": "stdout",
          "text": [
            "s = 86400 segundos\n"
          ]
        }
      ]
    }
  ]
}
