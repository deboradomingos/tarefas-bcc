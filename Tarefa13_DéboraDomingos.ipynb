{
  "nbformat": 4,
  "nbformat_minor": 0,
  "metadata": {
    "colab": {
      "provenance": []
    },
    "kernelspec": {
      "name": "python3",
      "display_name": "Python 3"
    },
    "language_info": {
      "name": "python"
    }
  },
  "cells": [
    {
      "cell_type": "markdown",
      "source": [
        "Débora Domingos - 11202212420"
      ],
      "metadata": {
        "id": "grCAdBqYszL_"
      }
    },
    {
      "cell_type": "markdown",
      "source": [
        "**1)** Para este item você deverá usar o arquivo [com todos os resultados do campeonato Brasileiro de futebol de 2018 (tabelaBrasileirao2018.csv encontrado na pasta aula7/dados)](dados/tabelaBrasileirao2018.csv) (dados obtidos [desta](<https://pt.wikipedia.org/wiki/Resultados_do_Campeonato_Brasileiro_de_Futebol_de_2018_-_S%C3%A9rie_A_(primeiro_turno)>) e [desta](<https://pt.wikipedia.org/wiki/Resultados_do_Campeonato_Brasileiro_de_Futebol_de_2018_-_S%C3%A9rie_A_(segundo_turno)>) página da Wikipedia).\n",
        "\n",
        "\n",
        "- Escolha um time e faça o histograma da distribuição do público nos jogos em que este time foi o mandante.\n",
        "\n",
        "- Calcule qual foi o público médio nos jogos em que o time escolhido foi o mandante."
      ],
      "metadata": {
        "id": "EfF5akoVaI9v"
      }
    },
    {
      "cell_type": "code",
      "source": [
        "import pandas as pd\n",
        "import matplotlib.pyplot as plt\n",
        "tabela = pd.read_csv('https://raw.githubusercontent.com/HarukiHenrike/BasesComputacionais/master/dados/tabelaBrasileirao2018.csv')\n",
        "\n",
        "plt.figure()\n",
        "plt.hist([tabela.query(\"Mandante == 'Bahia'\")['Público']])\n",
        "plt.xlabel('Público')\n",
        "plt.show()\n",
        "\n",
        "print(\"Média do público quando Bahia é mandante\" ,[tabela.query(\"Mandante == 'Bahia'\")['Público'].median()])\n"
      ],
      "metadata": {
        "colab": {
          "base_uri": "https://localhost:8080/",
          "height": 296
        },
        "id": "18Ytzl20aU_u",
        "outputId": "45f50aa3-bfe7-4de4-a17d-e2238508e6fc"
      },
      "execution_count": null,
      "outputs": [
        {
          "output_type": "display_data",
          "data": {
            "text/plain": [
              "<Figure size 432x288 with 1 Axes>"
            ],
            "image/png": "[encoded data removed]"
          },
          "metadata": {
            "needs_background": "light"
          }
        },
        {
          "output_type": "stream",
          "name": "stdout",
          "text": [
            "Média do público quando Bahia é mandante [17448.0]\n"
          ]
        }
      ]
    }
  ]
}