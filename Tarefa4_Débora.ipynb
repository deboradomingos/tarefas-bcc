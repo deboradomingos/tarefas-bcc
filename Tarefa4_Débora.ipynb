{
  "nbformat": 4,
  "nbformat_minor": 0,
  "metadata": {
    "colab": {
      "provenance": [],
      "collapsed_sections": []
    },
    "kernelspec": {
      "name": "python3",
      "display_name": "Python 3"
    },
    "language_info": {
      "name": "python"
    }
  },
  "cells": [
    {
      "cell_type": "markdown",
      "source": [
        "Débora Domingos - 11202212420"
      ],
      "metadata": {
        "id": "70pKiP_du0Ai"
      }
    },
    {
      "cell_type": "markdown",
      "source": [
        "Realize os cálculos a seguir -\n",
        "\n",
        "\n",
        "**1.** **O volume de uma esfera com raio contida em uma variável R.**\n",
        "\n",
        "Fórmula - V = 4 * π * R**3 / 3\n",
        "\n",
        "Teste para:\n",
        "\n",
        "a) R = 0,32m;\n",
        "\n"
      ],
      "metadata": {
        "id": "T0nZ-ppXwraj"
      }
    },
    {
      "cell_type": "code",
      "source": [
        "π = 3.14\n",
        "R = 0.32\n",
        "volumetotal = (4 * π * R**3) / 3\n",
        "print(\"O volume da esfera é de \" + str(volumetotal) + \" m3\")"
      ],
      "metadata": {
        "id": "lnXY7X_Vu4W3",
        "colab": {
          "base_uri": "https://localhost:8080/"
        },
        "outputId": "6b751951-009d-4a96-8d56-a27bc02587e9"
      },
      "execution_count": null,
      "outputs": [
        {
          "output_type": "stream",
          "name": "stdout",
          "text": [
            "O volume da esfera é de 0.13718869333333336 m3\n"
          ]
        }
      ]
    },
    {
      "cell_type": "code",
      "source": [],
      "metadata": {
        "id": "1MK8o4Zn08lq"
      },
      "execution_count": null,
      "outputs": []
    },
    {
      "cell_type": "markdown",
      "source": [
        "b) R = 1m;"
      ],
      "metadata": {
        "id": "GViqSIc-00v8"
      }
    },
    {
      "cell_type": "code",
      "source": [
        "π = 3.14\n",
        "R = 1\n",
        "volume = (4 * π * R**3) / 3\n",
        "print(\"O volume da esfera é de \" + str(volume) + \" m3\")"
      ],
      "metadata": {
        "id": "b4HbXNqw1DCd",
        "colab": {
          "base_uri": "https://localhost:8080/"
        },
        "outputId": "54b201b9-8953-4f20-bbf2-d99ad92fa023"
      },
      "execution_count": null,
      "outputs": [
        {
          "output_type": "stream",
          "name": "stdout",
          "text": [
            "O volume da esfera é de 4.1866666666666665 m3\n"
          ]
        }
      ]
    },
    {
      "cell_type": "markdown",
      "source": [
        "c) R = 1,9m;"
      ],
      "metadata": {
        "id": "DMevGOi51oAs"
      }
    },
    {
      "cell_type": "code",
      "source": [
        "π = 3.14\n",
        "R = 1.9\n",
        "vol = (4 * π * R**3) / 3\n",
        "print(\"O volume da esfera é de \" + str(vol) + \" m3\")"
      ],
      "metadata": {
        "id": "hymLlz7u1uFl",
        "colab": {
          "base_uri": "https://localhost:8080/"
        },
        "outputId": "6fafba9e-a5c5-41bd-9dad-4c2b4c13dedf"
      },
      "execution_count": null,
      "outputs": [
        {
          "output_type": "stream",
          "name": "stdout",
          "text": [
            "O volume da esfera é de 28.716346666666663 m3\n"
          ]
        }
      ]
    }
  ]
}