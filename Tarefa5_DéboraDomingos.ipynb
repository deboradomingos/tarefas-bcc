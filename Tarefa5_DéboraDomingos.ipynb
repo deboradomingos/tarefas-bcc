{
  "nbformat": 4,
  "nbformat_minor": 0,
  "metadata": {
    "colab": {
      "provenance": []
    },
    "kernelspec": {
      "name": "python3",
      "display_name": "Python 3"
    },
    "language_info": {
      "name": "python"
    }
  },
  "cells": [
    {
      "cell_type": "markdown",
      "metadata": {
        "id": "70pKiP_du0Ai"
      },
      "source": [
        "Débora Domingos - 11202212420"
      ]
    },
    {
      "cell_type": "markdown",
      "source": [
        "**1)** Uma bola é lançada ao ar. Suponha que sua altura h(t), em metros, t segundos após o lançamento, seja:\n",
        "\n",
        "Fórmula - h(t) = -t² + 4t\n",
        "\n",
        "**a)** Faça o gráfico da altura em função do tempo. Não se esqueça de indicar o significado de cada eixo, colocando a unidade da altura e do tempo.\n",
        "\n",
        "Sugestão: fazer o gráfico com o tempo entre 0 s e 5 s com incrementos de 0.1 s."
      ],
      "metadata": {
        "id": "DGT54vSKpKFe"
      }
    },
    {
      "cell_type": "code",
      "execution_count": null,
      "metadata": {
        "id": "CK4tkHDwpGe1"
      },
      "outputs": [],
      "source": [
        "import matplotlib.pyplot as plt\n",
        "import numpy as np"
      ]
    },
    {
      "cell_type": "code",
      "source": [
        "t = np.arange(0, 5, 0.1)\n",
        "h = -t**2 +4*t"
      ],
      "metadata": {
        "id": "I01NWhkupNq7"
      },
      "execution_count": null,
      "outputs": []
    },
    {
      "cell_type": "code",
      "source": [
        "plt.scatter(t,h)\n",
        "plt.xlabel('t (segundos)')\n",
        "plt.ylabel('h (metros)')\n",
        "plt.title('altura vs. tempo')\n",
        "plt.show()"
      ],
      "metadata": {
        "colab": {
          "base_uri": "https://localhost:8080/",
          "height": 295
        },
        "id": "xYXClUCdpQ9r",
        "outputId": "d27d6bbd-bad5-4812-be2a-c42fea46bbbe"
      },
      "execution_count": null,
      "outputs": [
        {
          "output_type": "display_data",
          "data": {
            "text/plain": [
              "<Figure size 432x288 with 1 Axes>"
            ],
            "image/png": "[encoded data removed]"
          },
          "metadata": {
            "needs_background": "light"
          }
        }
      ]
    },
    {
      "cell_type": "markdown",
      "source": [
        "**b)** Calcule a altura máxima atingida pela bola.\n"
      ],
      "metadata": {
        "id": "yxtzi2KCvrWh"
      }
    },
    {
      "cell_type": "code",
      "source": [
        "m = np.max(h)\n",
        "print(f'A altura máxima atingida pela bola foi {m}', 'm')"
      ],
      "metadata": {
        "colab": {
          "base_uri": "https://localhost:8080/"
        },
        "id": "3QySt10mvszS",
        "outputId": "469cb6a6-e585-429a-f238-87b66d31bb0d"
      },
      "execution_count": null,
      "outputs": [
        {
          "output_type": "stream",
          "name": "stdout",
          "text": [
            "A altura máxima atingida pela bola foi 4.0 m\n"
          ]
        }
      ]
    }
  ]
}