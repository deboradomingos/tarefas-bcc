{
  "nbformat": 4,
  "nbformat_minor": 0,
  "metadata": {
    "colab": {
      "provenance": []
    },
    "kernelspec": {
      "name": "python3",
      "display_name": "Python 3"
    },
    "language_info": {
      "name": "python"
    }
  },
  "cells": [
    {
      "cell_type": "markdown",
      "source": [
        "Débora Domingos - 11202212420\n"
      ],
      "metadata": {
        "id": "-_5hqx5zzcc8"
      }
    },
    {
      "cell_type": "markdown",
      "source": [
        "**1)** A tensão elétrica medida em um circuito, em volts, tem a seguinte expressão no instante **t**, em segundos:\n",
        "\n",
        "v(t)=e^-0.5t*cos*(2π*0.8t)\n",
        "\n",
        "Faça o gráfico da tensão em função do tempo."
      ],
      "metadata": {
        "id": "52tnYLJnzbpi"
      }
    },
    {
      "cell_type": "code",
      "source": [
        "import matplotlib.pyplot as plt"
      ],
      "metadata": {
        "id": "6wc_Ywn90vSH"
      },
      "execution_count": null,
      "outputs": []
    },
    {
      "cell_type": "code",
      "source": [
        "t = np.arange(0, 10, 0.05)\n",
        "t = e**-0.5*t * cos(2*3.14*0.8*t)"
      ],
      "metadata": {
        "colab": {
          "base_uri": "https://localhost:8080/"
        },
        "id": "3yrgzqpN03r_",
        "outputId": "0f8df9ec-fcfe-4a3b-9340-f61174cdd3d8"
      },
      "execution_count": null,
      "outputs": [
        {
          "output_type": "stream",
          "name": "stderr",
          "text": [
            "/usr/local/lib/python3.7/dist-packages/ipykernel_launcher.py:2: RuntimeWarning: divide by zero encountered in power\n",
            "  \n",
            "/usr/local/lib/python3.7/dist-packages/ipykernel_launcher.py:2: RuntimeWarning: invalid value encountered in multiply\n",
            "  \n"
          ]
        }
      ]
    },
    {
      "cell_type": "code",
      "source": [
        "plt.scatter(e,t)\n",
        "plt.xlabel('t (segundos)')\n",
        "plt.ylabel('e (tensão)')\n",
        "plt.title('tensão vs. tempo')\n",
        "plt.show()"
      ],
      "metadata": {
        "colab": {
          "base_uri": "https://localhost:8080/",
          "height": 295
        },
        "id": "gKe3rY6j310S",
        "outputId": "eda618d4-ec4a-4bf8-ed64-8800416f705f"
      },
      "execution_count": null,
      "outputs": [
        {
          "output_type": "display_data",
          "data": {
            "text/plain": [
              "<Figure size 432x288 with 1 Axes>"
            ],
            "image/png": "[encoded data removed]"
          },
          "metadata": {
            "needs_background": "light"
          }
        }
      ]
    },
    {
      "cell_type": "markdown",
      "source": [
        "**2)** Faça um gráfico da equivalência da temperatura em Fahrenheits em função da temperatura em Celsius:\n",
        "\n",
        "F = 9/5 * C + 32\n",
        "\n",
        "Faça o gráfico tomando 100 pontos entre -20° C e 100° C."
      ],
      "metadata": {
        "id": "iK9gQ6-I_Tv4"
      }
    },
    {
      "cell_type": "code",
      "source": [
        "import matplotlib.pyplot as plt"
      ],
      "metadata": {
        "id": "U-Gc3qfT_ghq"
      },
      "execution_count": null,
      "outputs": []
    },
    {
      "cell_type": "code",
      "source": [
        "C = np.linspace(-20, 100, 100)\n",
        "F = 9/5 * C + 32"
      ],
      "metadata": {
        "id": "_RrMqui3_iHI"
      },
      "execution_count": null,
      "outputs": []
    },
    {
      "cell_type": "code",
      "source": [
        "plt.scatter(C,F)\n",
        "plt.xlabel('C (Celsius)')\n",
        "plt.ylabel('F (Fahreinheit)')\n",
        "plt.title('C vs. F')\n",
        "plt.show()"
      ],
      "metadata": {
        "colab": {
          "base_uri": "https://localhost:8080/",
          "height": 295
        },
        "id": "2OQS9sSSAJw8",
        "outputId": "4170d90f-a46e-454c-988e-b109ff2130e8"
      },
      "execution_count": null,
      "outputs": [
        {
          "output_type": "display_data",
          "data": {
            "text/plain": [
              "<Figure size 432x288 with 1 Axes>"
            ],
            "image/png": "[encoded data removed]"
          },
          "metadata": {
            "needs_background": "light"
          }
        }
      ]
    },
    {
      "cell_type": "markdown",
      "source": [
        "3) Entre os anos de 1994 e 2022, a população de uma cidade cresce aproximadamente de acordo com a seguinte função:\n",
        "\n",
        "P(a)= 800000e**a-1994/40\n",
        "\n",
        "Em que **a** é o ano e **P** é o número de habitantes.\n",
        "\n",
        "Faça o gráfico do número de habitantes entre 1994 e 2022."
      ],
      "metadata": {
        "id": "ta39FP3rAcH8"
      }
    },
    {
      "cell_type": "code",
      "source": [
        "import matplotlib.pyplot as plt\n",
        "import numpy as np"
      ],
      "metadata": {
        "id": "GuxX_uuADn7_"
      },
      "execution_count": null,
      "outputs": []
    },
    {
      "cell_type": "code",
      "source": [
        "a = np.array([1994,1995,1996,1997,1998,1999,2000,2001,2002,2003,2004,2005,2006,2007,2008,2009,2010,2011,2012,2013,2014,2015,2016,2017,2018,2019,2020,2021,2022])\n",
        "e = np.exp((a-1994)/40)\n",
        "p = 800000*e\n",
        "print (a, 'anos')\n",
        "print (p, 'habitantes')"
      ],
      "metadata": {
        "id": "MiGBj7mLDtSU",
        "colab": {
          "base_uri": "https://localhost:8080/"
        },
        "outputId": "ba407b1c-3683-4194-dd44-2f92348dfe87"
      },
      "execution_count": null,
      "outputs": [
        {
          "output_type": "stream",
          "name": "stdout",
          "text": [
            "[1994 1995 1996 1997 1998 1999 2000 2001 2002 2003 2004 2005 2006 2007\n",
            " 2008 2009 2010 2011 2012 2013 2014 2015 2016 2017 2018 2019 2020 2021\n",
            " 2022] anos\n",
            "[ 800000.          820252.09641954  841016.87710082  862307.32070771\n",
            "  884136.73446052  906518.76245346  929467.39418263  952996.97328989\n",
            "  977122.20652814 1001858.17295349 1027220.33335019 1053224.5398941\n",
            " 1079887.0460608  1107224.5167846  1135254.03887461 1163993.13169456\n",
            " 1193459.75811302 1223672.3357307  1254649.74839214 1286411.35798863\n",
            " 1318977.0165601  1352367.07870327 1386602.41429392 1421704.42153123\n",
            " 1457695.04031241 1494596.76594578 1532432.66321112 1571226.38077588\n",
            " 1611002.16597638] habitantes\n"
          ]
        }
      ]
    },
    {
      "cell_type": "code",
      "source": [
        "plt.figure()\n",
        "plt.plot(a, p)\n",
        "plt.xlabel('a (anos')\n",
        "plt.ylabel('p (população')\n",
        "plt.title('População vs. Ano')\n",
        "plt.grid()\n",
        "plt.show()"
      ],
      "metadata": {
        "colab": {
          "base_uri": "https://localhost:8080/",
          "height": 295
        },
        "id": "AUisQmaKF6Hs",
        "outputId": "393e05ed-4a17-48bc-ed8e-3dcd0badce25"
      },
      "execution_count": null,
      "outputs": [
        {
          "output_type": "display_data",
          "data": {
            "text/plain": [
              "<Figure size 432x288 with 1 Axes>"
            ],
            "image/png": "[encoded data removed]"
          },
          "metadata": {
            "needs_background": "light"
          }
        }
      ]
    }
  ]
}