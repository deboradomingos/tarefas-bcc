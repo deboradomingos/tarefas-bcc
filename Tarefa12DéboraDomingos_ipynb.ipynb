{
  "nbformat": 4,
  "nbformat_minor": 0,
  "metadata": {
    "colab": {
      "provenance": []
    },
    "kernelspec": {
      "name": "python3",
      "display_name": "Python 3"
    },
    "language_info": {
      "name": "python"
    }
  },
  "cells": [
    {
      "cell_type": "markdown",
      "metadata": {
        "id": "view-in-github"
      },
      "source": [
        "<a href=\"https://colab.research.google.com/github/HarukiHenrike/BCC21LuizHenrique/blob/main/Tarefa11LuizHenrique.ipynb\" target=\"_parent\"><img src=\"https://colab.research.google.com/assets/colab-badge.svg\" alt=\"Open In Colab\"/></a>"
      ]
    },
    {
      "cell_type": "markdown",
      "source": [
        "Débora Domingos - 11202212420"
      ],
      "metadata": {
        "id": "u4dh_Ur2rcwP"
      }
    },
    {
      "cell_type": "markdown",
      "source": [
        "\n",
        "\n",
        "**1)** Faça a aproximação de $\\pi$ usando a fórmula de Leibniz:\n",
        "\n",
        "$$\\pi \\approx 4 - \\frac{4}{3} + \\frac{4}{5} - \\frac{4}{7} + \\frac{4}{9}+...$$\n",
        "\n",
        "Calcule (e mostre na tela) a aproximação de $\\pi$ considerando a) 50 termos, b) 500 termos, c) 1000 termos e d) 10000 termos. \n",
        "\n",
        "Dica: Note que o sinal do termo muda a cada termo. Talvez verificar se o $i$ é par ou ímpar ajude a decidir se para aquele i o sinal é mais ou menos.\n"
      ],
      "metadata": {
        "id": "by6yqrljLo_1"
      }
    },
    {
      "cell_type": "code",
      "source": [
        "import numpy as np\n",
        "\n",
        "N = 50\n",
        "Pi = 0\n",
        "for i in range(1, N*2+1, 2):\n",
        "    sinal = -(-1)**((i+1)/2)\n",
        "    Pi += 4/(i * sinal)\n",
        "print(f'Quando a fórmula de Leibniz tiver {N} termos o resultado será {Pi}')"
      ],
      "metadata": {
        "colab": {
          "base_uri": "https://localhost:8080/"
        },
        "id": "B7tdKxcLL6Nv",
        "outputId": "72af2b08-d5dd-42b6-cb84-e168ff175503"
      },
      "execution_count": 1,
      "outputs": [
        {
          "output_type": "stream",
          "name": "stdout",
          "text": [
            "Quando a fórmula de Leibniz tiver 50 termos o resultado será 3.121594652591011\n"
          ]
        }
      ]
    },
    {
      "cell_type": "code",
      "source": [
        "import numpy as np\n",
        "\n",
        "N = 500\n",
        "Pi = 0\n",
        "for i in range(1, N*2+1, 2):\n",
        "    sinal = -(-1)**((i+1)/2)\n",
        "    Pi += 4/(i * sinal)\n",
        "print(f'Quando fórmula de Leibniz tiver {N} termos o resultado será {Pi}')"
      ],
      "metadata": {
        "colab": {
          "base_uri": "https://localhost:8080/"
        },
        "id": "LaDXrtksYwQ2",
        "outputId": "46821662-7030-4256-b042-ce8c7094827f"
      },
      "execution_count": 2,
      "outputs": [
        {
          "output_type": "stream",
          "name": "stdout",
          "text": [
            "Quando fórmula de Leibniz tiver 500 termos o resultado será 3.139592655589785\n"
          ]
        }
      ]
    },
    {
      "cell_type": "code",
      "source": [
        "import numpy as np\n",
        "\n",
        "N = 1000\n",
        "Pi = 0\n",
        "for i in range(1, N*2+1, 2):\n",
        "    sinal = -(-1)**((i+1)/2)\n",
        "    Pi += 4/(i * sinal)\n",
        "print(f'Quando fórmula de Leibniz tiver {N} termos o resultado será {Pi}')"
      ],
      "metadata": {
        "colab": {
          "base_uri": "https://localhost:8080/"
        },
        "id": "uoqnxAnwdJwB",
        "outputId": "88fa858a-ae27-4036-f8f3-47280254de85"
      },
      "execution_count": 3,
      "outputs": [
        {
          "output_type": "stream",
          "name": "stdout",
          "text": [
            "Quando fórmula de Leibniz tiver 1000 termos o resultado será 3.140592653839794\n"
          ]
        }
      ]
    },
    {
      "cell_type": "code",
      "source": [
        "import numpy as np\n",
        "\n",
        "N = 10000\n",
        "Pi = 0\n",
        "for i in range(1, N*2+1, 2):\n",
        "    sinal = -(-1)**((i+1)/2)\n",
        "    Pi += 4/(i * sinal)\n",
        "print(f'Quando fórmula de Leibniz tiver {N} termos o resultado será {Pi}')"
      ],
      "metadata": {
        "id": "3GX3X9kjeHU1",
        "outputId": "a0592caf-ae8b-4b33-efcc-ae6a89f61660",
        "colab": {
          "base_uri": "https://localhost:8080/"
        }
      },
      "execution_count": 4,
      "outputs": [
        {
          "output_type": "stream",
          "name": "stdout",
          "text": [
            "Quando fórmula de Leibniz tiver 10000 termos o resultado será 3.1414926535900345\n"
          ]
        }
      ]
    }
  ]
}