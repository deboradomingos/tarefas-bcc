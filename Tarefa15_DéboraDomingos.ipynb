{
  "nbformat": 4,
  "nbformat_minor": 0,
  "metadata": {
    "colab": {
      "provenance": []
    },
    "kernelspec": {
      "name": "python3",
      "display_name": "Python 3"
    },
    "language_info": {
      "name": "python"
    }
  },
  "cells": [
    {
      "cell_type": "markdown",
      "source": [
        "Débora Domingos - 11202212420"
      ],
      "metadata": {
        "id": "zqFK1cO5w4-A"
      }
    },
    {
      "cell_type": "markdown",
      "source": [
        "**1)** Faça uma função que receba um número a, um número b e um número x. Esta função deve retornar True se x estiver entre a e b e False caso contrário. Além disso a função deve mostrar uma mensagem dizendo se x está no intervalo entre a e b ou não.\n",
        "\n",
        "Teste para\n",
        "\n",
        "a) a = -2.5, b = 6.3 e x = 9.1;\n",
        "\n",
        "b) a = -10, b = 7 e x = 2.2;\n",
        "\n",
        "c) a = 67.2, b = 87.2 e x = 8.1."
      ],
      "metadata": {
        "id": "gWZR-78CRaDe"
      }
    },
    {
      "cell_type": "code",
      "source": [
        "import numpy as np\n",
        "def estaNoIntervalo(A, B, X):\n",
        "    if A <= X and X <= B:\n",
        "        resultado = True\n",
        "    elif B <= X and X <= A:\n",
        "        resultado = True\n",
        "    elif X <= A and X <= B:\n",
        "        resultado = False\n",
        "    elif X >= A and X >= B:\n",
        "          resultado = False\n",
        "    \n",
        "    if resultado:\n",
        "      print (f'{X} está dentro do intervalo [{A}, {B}]')\n",
        "    else:\n",
        "      print (f'{X} não está dentro do intervalo [{A}, {B}]')\n",
        "    return resultado"
      ],
      "metadata": {
        "id": "UCTsuVsyRbdx"
      },
      "execution_count": null,
      "outputs": []
    },
    {
      "cell_type": "code",
      "source": [
        "A1 = -2.5\n",
        "B1 = 6.3\n",
        "X1 = 9.1\n",
        "A2 = -10\n",
        "B2 = 7\n",
        "X2 = 2.2\n",
        "A3 = 67.2\n",
        "B3 = 87.2\n",
        "X3 = 8.1"
      ],
      "metadata": {
        "id": "9DmHo3ime055"
      },
      "execution_count": null,
      "outputs": []
    },
    {
      "cell_type": "code",
      "source": [
        "TEST1 = estaNoIntervalo(A1, B1, X1)\n",
        "print(TEST1)"
      ],
      "metadata": {
        "colab": {
          "base_uri": "https://localhost:8080/"
        },
        "id": "CIvyDDqXfwMo",
        "outputId": "85ecf11a-2d97-441a-fddf-2346c7cc2a74"
      },
      "execution_count": null,
      "outputs": [
        {
          "output_type": "stream",
          "name": "stdout",
          "text": [
            "9.1 não está dentro do intervalo [-2.5, 6.3]\n",
            "False\n"
          ]
        }
      ]
    },
    {
      "cell_type": "code",
      "source": [
        "TEST2 = estaNoIntervalo(A2, B2, X2)\n",
        "print(TEST2)"
      ],
      "metadata": {
        "colab": {
          "base_uri": "https://localhost:8080/"
        },
        "id": "pMgOzSHcj1P2",
        "outputId": "b9cf9fab-52fa-4ed0-ef02-aabf0b2f2231"
      },
      "execution_count": null,
      "outputs": [
        {
          "output_type": "stream",
          "name": "stdout",
          "text": [
            "2.2 está dentro do intervalo [-10, 7]\n",
            "True\n"
          ]
        }
      ]
    },
    {
      "cell_type": "code",
      "source": [
        "TEST3 = estaNoIntervalo(A3, B3, X3)\n",
        "print(TEST3)"
      ],
      "metadata": {
        "colab": {
          "base_uri": "https://localhost:8080/"
        },
        "id": "8-IDhwoKj2Rt",
        "outputId": "aa030c6d-5cda-40db-cb3e-0613eed6c04c"
      },
      "execution_count": null,
      "outputs": [
        {
          "output_type": "stream",
          "name": "stdout",
          "text": [
            "8.1 não está dentro do intervalo [67.2, 87.2]\n",
            "False\n"
          ]
        }
      ]
    }
  ]
}